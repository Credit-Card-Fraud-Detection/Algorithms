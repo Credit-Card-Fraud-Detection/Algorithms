{
  "nbformat": 4,
  "nbformat_minor": 0,
  "metadata": {
    "colab": {
      "name": "Random_Forest",
      "provenance": [],
      "mount_file_id": "1cL05b4AlX-hhHv9xGysAqdtMwrr332Zj",
      "authorship_tag": "ABX9TyO4Hs++BV9Fxf6NCvLzgWck",
      "include_colab_link": true
    },
    "kernelspec": {
      "name": "python3",
      "display_name": "Python 3"
    }
  },
  "cells": [
    {
      "cell_type": "markdown",
      "metadata": {
        "id": "view-in-github",
        "colab_type": "text"
      },
      "source": [
        "<a href=\"https://colab.research.google.com/github/Credit-Card-Fraud-Detection/Algorithms/blob/main/Random_Forest.ipynb\" target=\"_parent\"><img src=\"https://colab.research.google.com/assets/colab-badge.svg\" alt=\"Open In Colab\"/></a>"
      ]
    },
    {
      "cell_type": "code",
      "metadata": {
        "id": "9SNnxlN4iO3I"
      },
      "source": [
        "# import the necessary packages \n",
        "import numpy as np \n",
        "import pandas as pd \n",
        "import matplotlib.pyplot as plt \n",
        "import seaborn as sns \n",
        "from matplotlib import gridspec "
      ],
      "execution_count": 1,
      "outputs": []
    },
    {
      "cell_type": "code",
      "metadata": {
        "id": "B6KkI-9zjHbC"
      },
      "source": [
        "from google.colab import drive\n",
        "drive.mount('../creditcard.csv')"
      ],
      "execution_count": null,
      "outputs": []
    }
  ]
}